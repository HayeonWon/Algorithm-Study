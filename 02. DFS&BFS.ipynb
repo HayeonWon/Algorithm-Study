{
 "cells": [
  {
   "cell_type": "markdown",
   "id": "b9203177",
   "metadata": {},
   "source": [
    "# 자료구조"
   ]
  },
  {
   "cell_type": "markdown",
   "id": "1dcce027",
   "metadata": {},
   "source": [
    "## 스택 자료구조\n",
    "* 먼저 들어온 데이터가 나중에 나가는 형식(선입후출)의 자료구조.\n",
    "* 입구와 출구가 동일한 형태로 스택을 시각화할 수 있음."
   ]
  },
  {
   "cell_type": "code",
   "execution_count": 12,
   "id": "be30ee87",
   "metadata": {},
   "outputs": [
    {
     "data": {
      "text/plain": [
       "[5, 2, 3]"
      ]
     },
     "execution_count": 12,
     "metadata": {},
     "output_type": "execute_result"
    }
   ],
   "source": [
    "# 스택 구현 예제\n",
    "stack = []\n",
    "\n",
    "# 삽입(5) - 삽입(2) - 삽입(3) - 삽입(7) - 삭제() - 삽입(1) - 삽입(4) - 삭제()\n",
    "stack.append(5) # 오른쪽으로 들어와서\n",
    "stack.append(2)\n",
    "stack.append(3)\n",
    "stack.append(7) # 오른쪽으로 나감\n",
    "stack.pop()\n",
    "\n",
    "stack"
   ]
  },
  {
   "cell_type": "code",
   "execution_count": 4,
   "id": "b0a525be",
   "metadata": {},
   "outputs": [
    {
     "data": {
      "text/plain": [
       "[5, 2, 3, 1, 4]"
      ]
     },
     "execution_count": 4,
     "metadata": {},
     "output_type": "execute_result"
    }
   ],
   "source": [
    "stack.append(1)\n",
    "stack.append(4)\n",
    "stack"
   ]
  },
  {
   "cell_type": "code",
   "execution_count": 5,
   "id": "4abc1ae2",
   "metadata": {},
   "outputs": [
    {
     "data": {
      "text/plain": [
       "[5, 2, 3, 1]"
      ]
     },
     "execution_count": 5,
     "metadata": {},
     "output_type": "execute_result"
    }
   ],
   "source": [
    "stack.pop()\n",
    "stack"
   ]
  },
  {
   "cell_type": "code",
   "execution_count": 7,
   "id": "71bedd25",
   "metadata": {},
   "outputs": [
    {
     "name": "stdout",
     "output_type": "stream",
     "text": [
      "[1, 3, 2, 5]\n",
      "[5, 2, 3, 1]\n"
     ]
    }
   ],
   "source": [
    "print(stack[::-1]) # 최상단 원소부터 출력\n",
    "print(stack) # 최상단 원소부터 출력"
   ]
  },
  {
   "cell_type": "markdown",
   "id": "45eafb50",
   "metadata": {},
   "source": [
    "## 큐 자료구조\n",
    "* 먼저 들어 온 데이터가 먼저 나가는 형식(선입선출)의 자료구조.\n",
    "* 큐는 입구와 출구가 모두 뚫려 있는 터널과 같은 형태로 시각화 가능."
   ]
  },
  {
   "cell_type": "code",
   "execution_count": 9,
   "id": "08ee154b",
   "metadata": {},
   "outputs": [
    {
     "data": {
      "text/plain": [
       "deque([2, 3, 7])"
      ]
     },
     "execution_count": 9,
     "metadata": {},
     "output_type": "execute_result"
    }
   ],
   "source": [
    "# 큐 구현 예제\n",
    "from collections import deque\n",
    "\n",
    "# 큐(Queue) 구현을 위해 deque 라이브러리 사용\n",
    "queue = deque()\n",
    "\n",
    "# 삽입(5) - 삽입(2) - 삽입(3) - 삽입(7) - 삭제() - 삽입(1) - 삽입(4) - 삭제()\n",
    "queue.append(5) # 오른쪽으로 들어와서\n",
    "queue.append(2)\n",
    "queue.append(3)\n",
    "queue.append(7)\n",
    "queue.popleft() # 왼쪽으로 나감\n",
    "queue"
   ]
  },
  {
   "cell_type": "code",
   "execution_count": 10,
   "id": "1332cf31",
   "metadata": {
    "scrolled": true
   },
   "outputs": [
    {
     "data": {
      "text/plain": [
       "deque([3, 7, 1, 4])"
      ]
     },
     "execution_count": 10,
     "metadata": {},
     "output_type": "execute_result"
    }
   ],
   "source": [
    "queue.append(1)\n",
    "queue.append(4)\n",
    "queue.popleft()\n",
    "queue"
   ]
  },
  {
   "cell_type": "code",
   "execution_count": 11,
   "id": "8a7f188d",
   "metadata": {},
   "outputs": [
    {
     "name": "stdout",
     "output_type": "stream",
     "text": [
      "deque([3, 7, 1, 4])\n",
      "deque([4, 1, 7, 3])\n"
     ]
    }
   ],
   "source": [
    "print(queue) # 먼저 들어온 순서대로 출력\n",
    "queue.reverse() # 역순으로 바꾸기\n",
    "print(queue) # 나중에 들어온 원소부터 출력"
   ]
  },
  {
   "cell_type": "markdown",
   "id": "ad1d5c2b",
   "metadata": {},
   "source": [
    "# 재귀 함수\n",
    "* 재귀함수는 '자기 자신을 다시 호출하는 함수'를 의미함."
   ]
  },
  {
   "cell_type": "markdown",
   "id": "a08453ba",
   "metadata": {},
   "source": [
    "## 단순한 형태의 재귀 함수 예제"
   ]
  },
  {
   "cell_type": "code",
   "execution_count": 10,
   "id": "1a70cb59",
   "metadata": {},
   "outputs": [],
   "source": [
    "# 단순한 형태의 재귀 함수 예제\n",
    "# '재귀 함수를 호출합니다.'라는 문자열을 무한히 출력.\n",
    "# 어느 정도 출력하다가 최대 재귀 깊이 초과 메시지 출력.\n",
    "\n",
    "def recursive_function():\n",
    "    print('재귀 함수를 호출합니다.')\n",
    "    recursive_function()\n",
    "recursive_function()"
   ]
  },
  {
   "cell_type": "markdown",
   "id": "2900272a",
   "metadata": {},
   "source": [
    "## 재귀 함수의 종료 조건 (!!!이해안됨)\n",
    "* 재귀 함수를 문제 풀이에서 사용할 때는 재귀 함수의 종료 조건을 반드시 명시해야 합니다.\n",
    "* 종료 조건을 제대로 명시하지 않으면 함수가 무한히 호출될 수 있습니다."
   ]
  },
  {
   "cell_type": "code",
   "execution_count": 11,
   "id": "1e22399c",
   "metadata": {},
   "outputs": [
    {
     "name": "stdout",
     "output_type": "stream",
     "text": [
      "90 번째 재귀함수에서 91 번째 재귀함수를 호출합니다.\n",
      "91 번째 재귀함수에서 92 번째 재귀함수를 호출합니다.\n",
      "92 번째 재귀함수에서 93 번째 재귀함수를 호출합니다.\n",
      "93 번째 재귀함수에서 94 번째 재귀함수를 호출합니다.\n",
      "94 번째 재귀함수에서 95 번째 재귀함수를 호출합니다.\n",
      "95 번째 재귀함수에서 96 번째 재귀함수를 호출합니다.\n",
      "96 번째 재귀함수에서 97 번째 재귀함수를 호출합니다.\n",
      "97 번째 재귀함수에서 98 번째 재귀함수를 호출합니다.\n",
      "98 번째 재귀함수에서 99 번째 재귀함수를 호출합니다.\n",
      "99 번째 재귀함수에서 100 번째 재귀함수를 호출합니다.\n",
      "99 번째 재귀함수를 종료합니다.\n",
      "98 번째 재귀함수를 종료합니다.\n",
      "97 번째 재귀함수를 종료합니다.\n",
      "96 번째 재귀함수를 종료합니다.\n",
      "95 번째 재귀함수를 종료합니다.\n",
      "94 번째 재귀함수를 종료합니다.\n",
      "93 번째 재귀함수를 종료합니다.\n",
      "92 번째 재귀함수를 종료합니다.\n",
      "91 번째 재귀함수를 종료합니다.\n",
      "90 번째 재귀함수를 종료합니다.\n"
     ]
    }
   ],
   "source": [
    "# 종료 조건을 포함한 재귀 함수 예제\n",
    "def recursive_function(i):\n",
    "    # 100번째 호출을 했을 때 종료되도록 종료 조건 명시\n",
    "    if i == 100:\n",
    "        return\n",
    "    print(i, '번째 재귀함수에서', i+1, '번째 재귀함수를 호출합니다.')\n",
    "    recursive_function(i+1)\n",
    "    print(i, '번째 재귀함수를 종료합니다.')\n",
    "    \n",
    "recursive_function(90)"
   ]
  },
  {
   "cell_type": "markdown",
   "id": "16f3b785",
   "metadata": {},
   "source": [
    "## 팩토리얼 구현 예제"
   ]
  },
  {
   "cell_type": "code",
   "execution_count": 5,
   "id": "6ef082e5",
   "metadata": {},
   "outputs": [],
   "source": [
    "# 반복적으로 구현한 n!\n",
    "def factorial_iterative(n):\n",
    "    result = 1\n",
    "    # 1부터 n까지의 수를 차례대로 곱하기\n",
    "    for i in range(1, n+1):\n",
    "        result *= i  # result = result*i와 같음 (왼쪽변수에 오른쪽변수를 곱하고 그 결과를 왼쪽변수에 할당함)\n",
    "    return  result"
   ]
  },
  {
   "cell_type": "code",
   "execution_count": 6,
   "id": "80042881",
   "metadata": {},
   "outputs": [],
   "source": [
    "# 재귀적으로 구현한 n!\n",
    "def factorial_recursive(n):\n",
    "    if n <= 1:\n",
    "        return 1\n",
    "    # n! = n * (n-1)!을 그대로 코드로 작성하기\n",
    "    return n * factorial_recursive(n-1)"
   ]
  },
  {
   "cell_type": "code",
   "execution_count": 7,
   "id": "77567fd1",
   "metadata": {},
   "outputs": [
    {
     "name": "stdout",
     "output_type": "stream",
     "text": [
      "반복적으로 구현: 120\n",
      "재귀적으로 구현: 120\n"
     ]
    }
   ],
   "source": [
    "# 각각의 방식으로 구현한 n! 출력(n=5)\n",
    "print('반복적으로 구현:', factorial_iterative(5))\n",
    "print('재귀적으로 구현:', factorial_recursive(5))"
   ]
  },
  {
   "cell_type": "markdown",
   "id": "c15e0669",
   "metadata": {},
   "source": [
    "## 최대공약수 계산 (유클리드 호제법) 예제\n",
    "* 두 개의 자연수에 대한 최대공약수를 구하는 대표적인 알고리즘으로는 유클리드 호제법이 있음.\n",
    "* 유클리드 호제법\n",
    "    * 두 자연수 A, B에 대하여(A > B) A를 B로 나눈 나머지를 R이라고 하자.\n",
    "    * 이때 A와 B의 최대공약수는 B와 R의 최대공약수와 같음.\n",
    "* 유클리드 호제법의 아이디어를 그대로 재귀 함수로 작성할 수 있음."
   ]
  },
  {
   "cell_type": "markdown",
   "id": "dc562247",
   "metadata": {},
   "source": [
    "* 재귀 함수를 잘 활용하면 복잡한 알고리즘을 간결하게 작성할 수 있으나,\n",
    "    * 오히려 다른 사람이 이해하기 어려운 형태의 코드가 될 수 있으므로 신중히 사용해야 함.\n",
    "* 모든 재귀 함수는 '반복문을 이용하여 동일한 기능을 구현'할 수 있음.\n",
    "* 재귀 함수가 반복문보다 유리한 경우도 있고 불리한 경우도 있음.\n",
    "* 컴퓨터가 함수를 연속적으로 호출하면 컴퓨터 메모리 내부의 스택 프레임에 쌓임.\n",
    "    * 그래서 스택을 사용해야 할 때 구현상 **스택 라이브러리 대신에 재귀 함수를 이용**하는 경우가 많음."
   ]
  },
  {
   "cell_type": "code",
   "execution_count": 8,
   "id": "76158a8f",
   "metadata": {},
   "outputs": [
    {
     "name": "stdout",
     "output_type": "stream",
     "text": [
      "6\n"
     ]
    }
   ],
   "source": [
    "# 유클리드 호제법 예제\n",
    "def gcd(a, b):\n",
    "    if a % b == 0:\n",
    "        return b\n",
    "    else:\n",
    "        return gcd(b, a % b)\n",
    "\n",
    "print(gcd(192, 162))"
   ]
  },
  {
   "cell_type": "markdown",
   "id": "0f526a24",
   "metadata": {},
   "source": [
    "# 그래프 탐색 알고리즘: DFS/BFS\n",
    "\n",
    "* 탐색(search)란 많은 양의 데이터 중에서 원하는 데이터를 찾는 과정을 말함.\n",
    "* 대표적인 그래프 탐색 알고리즘으로는 DFS와 BFS가 있음.\n",
    "* DFS/BFS는 코딩 테스트에서 매우 자주 등장하는 유형이므로 반드시 숙지해야 함."
   ]
  },
  {
   "cell_type": "markdown",
   "id": "36c8d440",
   "metadata": {},
   "source": [
    "## DFS (Depth-First Search)\n",
    "* DFS는 깊이 우선 탐색이라고도 부르며 그래프에서 깊은 부분을 우선적으로 탐색하는 알고리즘.\n",
    "* 스택 자료구조(혹은 재귀함수)를 이용하며, 구체적인 동작 과정은 다음과 같음\n",
    "    1. 탐색 시작 노드를 스택에 삽입하고 방문 처리를 함.\n",
    "    2. 스택의 최상단 노드에 방문하지 않은 인접한 노드가 하나라도 있으면 그 노드를 스택에 넣고 방문 처리 함. 방문하지 않은 인접 노드가 없으면 스택에서 최상단 노드를 꺼냄.\n",
    "    3. 더 이상 2번의 과정을 수행할 수 없을 때까지 반복함."
   ]
  },
  {
   "cell_type": "code",
   "execution_count": null,
   "id": "7e8f2275",
   "metadata": {},
   "outputs": [],
   "source": [
    "# DFS 소스코드 예제\n",
    "# 인접한 노드가 여러개일땐, 어떤 노드부터 방문할지 먼저 정해야함. (문제에 따라 다름)\n",
    "# 예시 방문 기준: 번호가 낮은 노드부터\n",
    "\n",
    "# DFS 메서드 정의\n",
    "def dfs(graph, v, visited):\n",
    "    # 현재 노드를 방문 처리\n",
    "    visited[v] = True\n",
    "    print(v, end=' ')\n",
    "    # 현재 노드와 연결된 다른 노드를 재귀적으로 방문\n",
    "    for i in graph[v]:\n",
    "        if not visited[i]:\n",
    "            dfs(graph, i, visited)"
   ]
  },
  {
   "cell_type": "code",
   "execution_count": null,
   "id": "a8e0ac30",
   "metadata": {},
   "outputs": [],
   "source": [
    "# 각 노드가 연결된 정보를 표현 (2차원 리스트)\n",
    "graph = [\n",
    "    [],\n",
    "    [2, 3, 8], # 1번 노드는 2,3,8 노드와 인접함\n",
    "    [1, 7],    # 2번 노드는 1,7 노드와 인접함\n",
    "    [1, 4, 5],\n",
    "    [3, 5],\n",
    "    [3, 4],\n",
    "    [7],\n",
    "    [2, 6, 8],\n",
    "    [1, 7],\n",
    "]"
   ]
  },
  {
   "cell_type": "code",
   "execution_count": 4,
   "id": "d1af36a7",
   "metadata": {},
   "outputs": [
    {
     "data": {
      "text/plain": [
       "[False, False, False, False, False, False, False, False, False]"
      ]
     },
     "execution_count": 4,
     "metadata": {},
     "output_type": "execute_result"
    }
   ],
   "source": [
    "# 각 노드가 방문된 정보를 표현 (1차원 리스트)\n",
    "visited = [False] * 9  # 노드개수 + 1 = 9\n",
    "visited"
   ]
  },
  {
   "cell_type": "code",
   "execution_count": null,
   "id": "68ddb61d",
   "metadata": {},
   "outputs": [],
   "source": [
    "# 정의된 DFS 함수 호출\n",
    "dfs(graph, 1, visited)"
   ]
  },
  {
   "cell_type": "markdown",
   "id": "acf2332e",
   "metadata": {},
   "source": [
    "## BFS (Breadth-First Search)\n",
    "* BFS는 '너비 우선 탐색'이라고도 부르며, 그래프에서 가까운 노드부터 우선적으로 탐색하는 알고리즘.\n",
    "* BFS는 큐 자료구조를 이용하며, 구체적인 동작 과정은 다음과 같음.\n",
    "    1. 탐색 시작 노드를 큐에 삽입하고 방문 처리 함.\n",
    "    2. 큐에서 노드를 꺼낸 뒤에 해당 노드의 인접 노드 중에서 방문하지 않은 노드를 모두 큐에 삽입하고 방문 처리 함.\n",
    "    3. 더 이상 2번의 과정을 수행할 수 없을 때까지 반복함."
   ]
  },
  {
   "cell_type": "code",
   "execution_count": null,
   "id": "fc353527",
   "metadata": {},
   "outputs": [],
   "source": [
    "# BFS 소스코드 예제\n",
    "# 인접한 노드가 여러개일땐, 어떤 노드부터 방문할지 먼저 정해야함. (문제에 따라 다름)\n",
    "# 예시 방문 기준: 번호가 낮은 인접 노드부터\n",
    "\n",
    "from collections import deque\n",
    "\n",
    "# BFS 메서드 정의\n",
    "def bfs(graph, start, visited):\n",
    "    # 큐(Queue) 구현을 위해 deque 라이브러리 사용\n",
    "    queue = deque([start])\n",
    "    # 현재 노드를 방문 처리\n",
    "    visited[start] = True\n",
    "    # 큐가 빌 때까지 반복\n",
    "    while queue:\n",
    "        # 큐에서 하나의 원소를 뽑아 출력하기\n",
    "        v = queue.popleft()\n",
    "        print(v, end = ' ')\n",
    "        # 아직 방문하지 않은 인접한 원소들을 큐에 삽입\n",
    "        for i in graph[v]:\n",
    "            if not visited[i]:\n",
    "                queue.append(i)\n",
    "                visited[i] = True"
   ]
  },
  {
   "cell_type": "code",
   "execution_count": null,
   "id": "549d69dc",
   "metadata": {},
   "outputs": [],
   "source": [
    "# 각 노드가 연결된 정보를 표현 (2차원 리스트)\n",
    "graph = [\n",
    "    [],\n",
    "    [2, 3, 8], # 1번 노드는 2,3,8 노드와 인접함\n",
    "    [1, 7],    # 2번 노드는 1,7 노드와 인접함\n",
    "    [1, 4, 5],\n",
    "    [3, 5],\n",
    "    [3, 4],\n",
    "    [7],\n",
    "    [2, 6, 8],\n",
    "    [1, 7],\n",
    "]"
   ]
  },
  {
   "cell_type": "code",
   "execution_count": null,
   "id": "af984f2c",
   "metadata": {},
   "outputs": [],
   "source": [
    "# 각 노드가 방문된 정보를 표현 (1차원 리스트)\n",
    "# 방문 처리 목적으로 생성\n",
    "visited = [False] * 9  # 노드개수 + 1 = 9\n",
    "visited"
   ]
  },
  {
   "cell_type": "code",
   "execution_count": null,
   "id": "075e32b4",
   "metadata": {},
   "outputs": [],
   "source": [
    "# 정의된 BFS 함수 호출\n",
    "bfs(graph, 1, visited)"
   ]
  }
 ],
 "metadata": {
  "kernelspec": {
   "display_name": "Python 3 (ipykernel)",
   "language": "python",
   "name": "python3"
  },
  "language_info": {
   "codemirror_mode": {
    "name": "ipython",
    "version": 3
   },
   "file_extension": ".py",
   "mimetype": "text/x-python",
   "name": "python",
   "nbconvert_exporter": "python",
   "pygments_lexer": "ipython3",
   "version": "3.9.5"
  },
  "toc": {
   "base_numbering": 1,
   "nav_menu": {},
   "number_sections": true,
   "sideBar": true,
   "skip_h1_title": false,
   "title_cell": "Table of Contents",
   "title_sidebar": "Contents",
   "toc_cell": false,
   "toc_position": {},
   "toc_section_display": true,
   "toc_window_display": false
  }
 },
 "nbformat": 4,
 "nbformat_minor": 5
}
